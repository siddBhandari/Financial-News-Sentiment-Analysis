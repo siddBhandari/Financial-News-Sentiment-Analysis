{
 "cells": [
  {
   "cell_type": "code",
   "execution_count": null,
   "metadata": {
    "id": "kfGhWrgPHgqy"
   },
   "outputs": [],
   "source": [
    "import requests\n",
    "import pandas as pd\n",
    "import nltk\n",
    "nltk.download('vader_lexicon')"
   ]
  },
  {
   "cell_type": "code",
   "execution_count": 105,
   "metadata": {
    "id": "TH4Yeh-N63_c"
   },
   "outputs": [],
   "source": [
    "from nltk.sentiment.vader import SentimentIntensityAnalyzer\n",
    "import matplotlib.pyplot as plt"
   ]
  },
  {
   "cell_type": "markdown",
   "metadata": {
    "id": "ippfMLp9S_i2"
   },
   "source": [
    "API key for polygon access"
   ]
  },
  {
   "cell_type": "code",
   "execution_count": 1,
   "metadata": {
    "id": "XCoiHI_kHntS"
   },
   "outputs": [],
   "source": [
    "api = 'aUIZ84r7gCACqZj3d8LZIkUSnmAITVsV'\n",
    "ticker = 'BTC'\n",
    "limit = '50'\n",
    "date = '2022-02-02'\n",
    "# url = f'https://api.polygon.io/v2/reference/news?ticker={ticker}&limit={limit}&apiKey={api}'"
   ]
  },
  {
   "cell_type": "code",
   "execution_count": 94,
   "metadata": {
    "id": "axo6939QavXn"
   },
   "outputs": [],
   "source": [
    "url2='https://api.polygon.io/v2/reference/news?ticker=AAPL&published_utc=2022-02-04&limit=50&apiKey=aUIZ84r7gCACqZj3d8LZIkUSnmAITVsV'"
   ]
  },
  {
   "cell_type": "code",
   "execution_count": 3,
   "metadata": {
    "id": "Rv-7YCgitjyT"
   },
   "outputs": [],
   "source": [
    "url2= f'https://api.polygon.io/v2/reference/news?ticker={ticker}&published_utc={date}&limit={limit}&apiKey={api}'"
   ]
  },
  {
   "cell_type": "markdown",
   "metadata": {
    "id": "cp2v4XwITFNv"
   },
   "source": [
    "To install Spark in Google Collab"
   ]
  },
  {
   "cell_type": "code",
   "execution_count": null,
   "metadata": {
    "id": "iOF0VMWMvOxb"
   },
   "outputs": [],
   "source": [
    "!wget https://dlcdn.apache.org/spark/spark-3.2.1/spark-3.2.1-bin-hadoop3.2.tgz"
   ]
  },
  {
   "cell_type": "code",
   "execution_count": null,
   "metadata": {
    "id": "rv98AE0Jy4qa"
   },
   "outputs": [],
   "source": [
    "!tar -xvzf spark-3.2.1-bin-hadoop3.2.tgz"
   ]
  },
  {
   "cell_type": "code",
   "execution_count": 25,
   "metadata": {
    "colab": {
     "base_uri": "https://localhost:8080/"
    },
    "id": "FZalfgmfzAeb",
    "outputId": "f87a72e8-7103-4c74-cb55-7675cecab7a9"
   },
   "outputs": [
    {
     "name": "stdout",
     "output_type": "stream",
     "text": [
      "bin   data\tjars\t    LICENSE   NOTICE  R\t\t RELEASE  yarn\n",
      "conf  examples\tkubernetes  licenses  python  README.md  sbin\n"
     ]
    }
   ],
   "source": [
    "!ls /content/spark-3.2.1-bin-hadoop3.2"
   ]
  },
  {
   "cell_type": "code",
   "execution_count": null,
   "metadata": {
    "id": "hKq9yTM3zECf"
   },
   "outputs": [],
   "source": [
    "!pip install findspark"
   ]
  },
  {
   "cell_type": "code",
   "execution_count": 27,
   "metadata": {
    "id": "pXheOD31zHoN"
   },
   "outputs": [],
   "source": [
    "import os\n",
    "os.environ[\"SPARK_HOME\"] = \"/content/spark-3.2.1-bin-hadoop3.2\"\n",
    "import findspark\n",
    "findspark.init()"
   ]
  },
  {
   "cell_type": "code",
   "execution_count": 28,
   "metadata": {
    "id": "nHfO5BXjxI-P"
   },
   "outputs": [],
   "source": [
    "from pyspark.sql import SparkSession"
   ]
  },
  {
   "cell_type": "code",
   "execution_count": 29,
   "metadata": {
    "id": "SgSMWrsfvYyl"
   },
   "outputs": [],
   "source": [
    "spark  = SparkSession.builder.appName('Try1').getOrCreate()"
   ]
  },
  {
   "cell_type": "markdown",
   "metadata": {
    "id": "LCtNYjva1duQ"
   },
   "source": [
    "Code to get news from polygon"
   ]
  },
  {
   "cell_type": "code",
   "execution_count": 95,
   "metadata": {
    "id": "XQHpHIUvayL6"
   },
   "outputs": [],
   "source": [
    "data = requests.get(url2).json()"
   ]
  },
  {
   "cell_type": "code",
   "execution_count": null,
   "metadata": {
    "id": "2mt3vIuUbDpt"
   },
   "outputs": [],
   "source": [
    "for i in range(10):\n",
    "  print(data['results'][i]['description'])\n",
    "  print(i)"
   ]
  },
  {
   "cell_type": "code",
   "execution_count": 38,
   "metadata": {
    "id": "tW5SiblvboLo"
   },
   "outputs": [],
   "source": [
    "#These list would contain news and date, to be appended again again for now, for each date\n",
    "newsList = []\n",
    "dateList = []"
   ]
  },
  {
   "cell_type": "code",
   "execution_count": 120,
   "metadata": {
    "id": "3v_mVTFB0Eol"
   },
   "outputs": [],
   "source": [
    "from numpy.ma.core import append\n",
    "#repeat for different date \n",
    "def getNewsByDate(tiker,date):\n",
    "  url=f'https://api.polygon.io/v2/reference/news?ticker={tiker}&published_utc={date}&limit=10&apiKey=aUIZ84r7gCACqZj3d8LZIkUSnmAITVsV'\n",
    "  data = requests.get(url).json()\n",
    "  for i in range(10):\n",
    "    newsList.append(data['results'][i]['description'])\n",
    "    dateList.append(data['results'][i]['published_utc'])\n",
    "  return \n"
   ]
  },
  {
   "cell_type": "code",
   "execution_count": 124,
   "metadata": {
    "colab": {
     "base_uri": "https://localhost:8080/"
    },
    "id": "7_c5HtXaRE37",
    "outputId": "dc3f0bc8-92b4-4260-eba1-a1e93fab73bc"
   },
   "outputs": [
    {
     "name": "stdout",
     "output_type": "stream",
     "text": [
      "https://api.polygon.io/v2/reference/news?ticker=AAPL&published_utc=2022-02-01&limit=10&apiKey=aUIZ84r7gCACqZj3d8LZIkUSnmAITVsV\n"
     ]
    }
   ],
   "source": [
    "#Change dates and call the function again\n",
    "getNewsByDate('AAPL','2022-02-01')"
   ]
  },
  {
   "cell_type": "markdown",
   "metadata": {
    "id": "G2P0r42k6TYe"
   },
   "source": [
    "Creating Pandas Dataframe for News by date-time"
   ]
  },
  {
   "cell_type": "code",
   "execution_count": 98,
   "metadata": {
    "id": "6W_jaoDI09PE"
   },
   "outputs": [],
   "source": [
    "df = pd.DataFrame(list(zip(dateList, newsList)),\n",
    "               columns =['Date', 'News'])"
   ]
  },
  {
   "cell_type": "code",
   "execution_count": null,
   "metadata": {
    "id": "RsN0dl2n1UEg"
   },
   "outputs": [],
   "source": [
    "df.head(10)"
   ]
  },
  {
   "cell_type": "code",
   "execution_count": null,
   "metadata": {
    "id": "CGsxpxAj6eYe"
   },
   "outputs": [],
   "source": []
  },
  {
   "cell_type": "markdown",
   "metadata": {
    "id": "AnIasTuu6lH1"
   },
   "source": [
    "#Pandas dataframe to Spark Dataframe\n",
    "\n"
   ]
  },
  {
   "cell_type": "code",
   "execution_count": 48,
   "metadata": {
    "id": "NCC2Lx7p1bdH"
   },
   "outputs": [],
   "source": [
    "df_spark = spark.createDataFrame(df)"
   ]
  },
  {
   "cell_type": "code",
   "execution_count": null,
   "metadata": {
    "id": "-6Ez5Wst1fDi"
   },
   "outputs": [],
   "source": [
    "df_spark.show()"
   ]
  },
  {
   "cell_type": "markdown",
   "metadata": {
    "id": "tsVu3u121DxT"
   },
   "source": [
    "Works fine till here"
   ]
  },
  {
   "cell_type": "markdown",
   "metadata": {
    "id": "SOdH0PwKqMm5"
   },
   "source": [
    "\n",
    "Todo \n",
    "1.   Get news headlines by date\n",
    "2.   Apply sentiment analysis on articles published on that day\n",
    "3. Calculate the score(average or the sum of min and max)\n",
    "4. Calculate Moving Average\n",
    "5. Plot varder sentiment and MA\n"
   ]
  },
  {
   "cell_type": "markdown",
   "metadata": {
    "id": "v5MTgylC7Gws"
   },
   "source": [
    "Performing Sentiment analysis on News"
   ]
  },
  {
   "cell_type": "code",
   "execution_count": 57,
   "metadata": {
    "id": "WFR53EF57c9D"
   },
   "outputs": [],
   "source": [
    "vader = SentimentIntensityAnalyzer()"
   ]
  },
  {
   "cell_type": "code",
   "execution_count": 99,
   "metadata": {
    "id": "5GYv1OA-7n9G"
   },
   "outputs": [],
   "source": [
    "scores = pd.DataFrame(df['News'].apply(vader.polarity_scores).tolist())\n",
    "df['compound'] = scores['compound'].values.tolist()\n",
    "final_news = df[df['compound'] != 0].reset_index(drop = True)\n"
   ]
  },
  {
   "cell_type": "code",
   "execution_count": null,
   "metadata": {
    "id": "EiwrT4DB8Gia"
   },
   "outputs": [],
   "source": [
    "final_news"
   ]
  },
  {
   "cell_type": "code",
   "execution_count": 100,
   "metadata": {
    "id": "fFgmKf81_cEm"
   },
   "outputs": [],
   "source": [
    "unique_dates = final_news['Date'].unique()\n",
    "grouped_dates = final_news.groupby(['Date'])\n",
    "keys_dates = list(grouped_dates.groups.keys())\n",
    "\n",
    "max_score = []\n",
    "min_score = []\n",
    "\n",
    "for key in grouped_dates.groups.keys():\n",
    "    data_group = grouped_dates.get_group(key)\n",
    "    if data_group[\"compound\"].max() > 0:\n",
    "        max_score.append(data_group[\"compound\"].max())\n",
    "    elif data_group[\"compound\"].max() < 0:\n",
    "        max_score.append(0)\n",
    "    \n",
    "    if data_group[\"compound\"].min() < 0:\n",
    "        min_score.append(data_group[\"compound\"].min())\n",
    "    elif data_group[\"compound\"].min() > 0:\n",
    "        min_score.append(0)"
   ]
  },
  {
   "cell_type": "code",
   "execution_count": 101,
   "metadata": {
    "id": "6oCBaONt_s3w"
   },
   "outputs": [],
   "source": [
    "extreme_score = pd.DataFrame({'Date':keys_dates, 'Min_Score':min_score, 'Max_Score':max_score})\n",
    "extreme_score['Final_Score'] = extreme_score[['Min_Score','Max_Score']].sum(axis = 1)"
   ]
  },
  {
   "cell_type": "code",
   "execution_count": null,
   "metadata": {
    "id": "Nh4M7dgA_zMW"
   },
   "outputs": [],
   "source": [
    "extreme_score.head(40)"
   ]
  },
  {
   "cell_type": "code",
   "execution_count": 104,
   "metadata": {
    "id": "oajOryCVInKO"
   },
   "outputs": [],
   "source": [
    "\n"
   ]
  },
  {
   "cell_type": "code",
   "execution_count": null,
   "metadata": {
    "id": "fg-UZY38N6Ch"
   },
   "outputs": [],
   "source": [
    "# Buy_Option = []\n",
    "# Sell_Option = []\n",
    "\n",
    "# for i in range(len(extreme_score)):\n",
    "#     if extreme_score['Final_Score'].values[i] > 0.3: #Optional Threshold\n",
    "#         Buy_Option.append(extreme_score['Date'].iloc[i].date())\n",
    "#     elif extreme_score['Final_Score'].values[i] < 0.3: #Optional Threshold\n",
    "#         Sell_Option.append(extreme_score['Date'].iloc[i].date())\n",
    "\n",
    "# vader_buy = []\n",
    "# for i in range(len(data)):\n",
    "#     if data.index[i].date() in Buy_Option:\n",
    "#         vader_buy.append(i)\n",
    "        \n",
    "# vader_sell = []\n",
    "# for i in range(len(data)):\n",
    "#     if data.index[i].date() in Sell_Option:\n",
    "#         vader_sell.append(i)"
   ]
  },
  {
   "cell_type": "markdown",
   "metadata": {
    "id": "0S_0bp4qT4rJ"
   },
   "source": [
    "Calculating and Plotting Moving Avervage for Sentiments dataframe"
   ]
  },
  {
   "cell_type": "code",
   "execution_count": null,
   "metadata": {
    "id": "7QrnRgzLOMdA"
   },
   "outputs": [],
   "source": [
    "\n",
    "\n",
    "SMA = extreme_score['Final_Score'].to_frame()\n",
    "SMA['SMA5'] = SMA['Final_Score'].rolling(5).mean()  \n",
    "SMA.dropna(inplace=True)\n",
    "  \n",
    "# printing Dataframe\n",
    "SMA\n"
   ]
  },
  {
   "cell_type": "code",
   "execution_count": 115,
   "metadata": {
    "id": "NQ8htrdgQW1X"
   },
   "outputs": [],
   "source": [
    "%matplotlib inline"
   ]
  },
  {
   "cell_type": "code",
   "execution_count": 117,
   "metadata": {
    "colab": {
     "base_uri": "https://localhost:8080/",
     "height": 430
    },
    "id": "ItqcUIeKPvrj",
    "outputId": "d67b5659-4ed9-4506-c86e-0e29d2d6c274"
   },
   "outputs": [
    {
     "data": {
      "image/png": "[encoded data removed]",
      "text/plain": [
       "<Figure size 640x480 with 1 Axes>"
      ]
     },
     "metadata": {},
     "output_type": "display_data"
    }
   ],
   "source": [
    "import matplotlib.pyplot as plt\n",
    "plt.style.use('default')\n",
    "SMA[['SMA5']].plot(label='SMA')\n",
    "plt.show()"
   ]
  },
  {
   "cell_type": "markdown",
   "metadata": {
    "id": "KZmwWsJMUG9l"
   },
   "source": [
    "Add "
   ]
  }
 ],
 "metadata": {
  "colab": {
   "name": "PolygonNews.ipynb",
   "provenance": []
  },
  "kernelspec": {
   "display_name": "Python 3 (ipykernel)",
   "language": "python",
   "name": "python3"
  },
  "language_info": {
   "codemirror_mode": {
    "name": "ipython",
    "version": 3
   },
   "file_extension": ".py",
   "mimetype": "text/x-python",
   "name": "python",
   "nbconvert_exporter": "python",
   "pygments_lexer": "ipython3",
   "version": "3.10.2"
  }
 },
 "nbformat": 4,
 "nbformat_minor": 1
}
