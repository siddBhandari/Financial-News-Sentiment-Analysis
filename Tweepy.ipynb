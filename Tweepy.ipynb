{
 "cells": [
  {
   "cell_type": "code",
   "execution_count": null,
   "id": "93e97523",
   "metadata": {},
   "outputs": [],
   "source": [
    "import tweepy\n",
    "from tweepy import Stream\n",
    "from tweepy.streaming import StreamListener\n",
    "from tweepy import OAuthHandler\n",
    "import socket\n",
    "import json\n"
   ]
  },
  {
   "cell_type": "code",
   "execution_count": 2,
   "id": "38c609e3",
   "metadata": {},
   "outputs": [],
   "source": [
    "consumer_key='ddeVX8iF2ZD6FrzMyyBnj8RTC'\n",
    "consumer_secret='MrCduq8EDGyrrZOIrnpUJZlDs8xSGRamgBW9dOB11hkx7JRwSB'\n",
    "access_token ='1480887625972011008-ed6bE2J55LEocK7RMGs6vy3irU8yNU'\n",
    "access_secret='fyPLEViPIRX64TIenSGEkYaKcbtdpMxy9lHLjHZNI1WOy'"
   ]
  },
  {
   "cell_type": "code",
   "execution_count": 3,
   "id": "555e825d",
   "metadata": {},
   "outputs": [],
   "source": [
    "class TweetsListener(StreamListener):\n",
    "    #intead of tweepy.Stream we can use StreamListener which is needed to be imported from tweepy.streaming\n",
    "  # tweet object listens for the tweets\n",
    "  def __init__(self, csocket):\n",
    "    self.client_socket = csocket\n",
    "    print(\"new message\")\n",
    "    \n",
    "  def on_data(self, data):\n",
    "    try:\n",
    "     \n",
    "      msg = json.loads( data )\n",
    "      print(msg)\n",
    "      \n",
    "      # if tweet is longer than 140 characters\n",
    "      if \"extended_tweet\" in msg:\n",
    "        # add at the end of each tweet \"t_end\" \n",
    "        self.client_socket\\\n",
    "            .send(str(msg['extended_tweet']['full_text']+\"t_end\")\\\n",
    "            .encode('utf-8'))         \n",
    "        print(msg['extended_tweet']['full_text'])\n",
    "      else:\n",
    "        # add at the end of each tweet \"t_end\" \n",
    "        self.client_socket\\\n",
    "            .send(str(msg['text']+\"t_end\")\\\n",
    "            .encode('utf-8'))\n",
    "        print(msg['text'])\n",
    "      return True\n",
    "    except BaseException as e:\n",
    "        print(\"Error on_data: %s\" % str(e))\n",
    "    return True\n",
    "  def on_error(self, status):\n",
    "    print(status)\n",
    "    return True"
   ]
  },
  {
   "cell_type": "code",
   "execution_count": 4,
   "id": "0dbcd0e3",
   "metadata": {},
   "outputs": [],
   "source": [
    "def sendData(c_socket, keyword):\n",
    "  print('start sending data from Twitter to socket')\n",
    "  # authentication based on the credentials\n",
    "  auth = OAuthHandler(consumer_key, consumer_secret)\n",
    "  auth.set_access_token(access_token, access_secret)\n",
    "  # start sending data from the Streaming API \n",
    "  twitter_stream = Stream(auth, TweetsListener(c_socket))\n",
    "  twitter_stream.filter(track = keyword, languages=[\"en\"])"
   ]
  },
  {
   "cell_type": "code",
   "execution_count": null,
   "id": "915da512",
   "metadata": {},
   "outputs": [
    {
     "name": "stdout",
     "output_type": "stream",
     "text": [
      "socket is ready\n",
      "socket is listening\n"
     ]
    }
   ],
   "source": [
    "if __name__ == \"__main__\":\n",
    "    # server (local machine) creates listening socket\n",
    "    s = socket.socket()\n",
    "    host = \"0.0.0.0\"    \n",
    "    port = 5555\n",
    "    s.bind((host, port))\n",
    "    print('socket is ready')\n",
    "    # server (local machine) listens for connections\n",
    "    s.listen(4)\n",
    "    print('socket is listening')\n",
    "    # return the socket and the address on the other side of the connection (client side)\n",
    "    c_socket, addr = s.accept()\n",
    "    print(\"Received request from: \" + str(addr))\n",
    "    # select here the keyword for the tweet data\n",
    "    sendData(c_socket, keyword = ['bitcoin'])"
   ]
  },
  {
   "cell_type": "code",
   "execution_count": null,
   "id": "7b246e79",
   "metadata": {},
   "outputs": [],
   "source": []
  }
 ],
 "metadata": {
  "kernelspec": {
   "display_name": "Python 3",
   "language": "python",
   "name": "python3"
  },
  "language_info": {
   "codemirror_mode": {
    "name": "ipython",
    "version": 3
   },
   "file_extension": ".py",
   "mimetype": "text/x-python",
   "name": "python",
   "nbconvert_exporter": "python",
   "pygments_lexer": "ipython3",
   "version": "3.8.8"
  }
 },
 "nbformat": 4,
 "nbformat_minor": 5
}
